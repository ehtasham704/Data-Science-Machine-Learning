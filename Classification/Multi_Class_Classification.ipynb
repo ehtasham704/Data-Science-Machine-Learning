{
  "nbformat": 4,
  "nbformat_minor": 0,
  "metadata": {
    "kernelspec": {
      "display_name": "Python 3",
      "language": "python",
      "name": "python3"
    },
    "language_info": {
      "codemirror_mode": {
        "name": "ipython",
        "version": 3
      },
      "file_extension": ".py",
      "mimetype": "text/x-python",
      "name": "python",
      "nbconvert_exporter": "python",
      "pygments_lexer": "ipython3",
      "version": "3.7.1"
    },
    "colab": {
      "name": "Multi Class Classification.ipynb",
      "provenance": []
    }
  },
  "cells": [
    {
      "cell_type": "markdown",
      "metadata": {
        "id": "nFMcGtcGFZL9"
      },
      "source": [
        "# Multi-Class Classification"
      ]
    },
    {
      "cell_type": "code",
      "metadata": {
        "id": "P3-CGFPjFZL9"
      },
      "source": [
        "import numpy as np\n",
        "import pandas as pd\n",
        "import matplotlib.pyplot as plt\n",
        "import seaborn as sns\n",
        "sns.set()\n",
        "%matplotlib inline"
      ],
      "execution_count": 1,
      "outputs": []
    },
    {
      "cell_type": "markdown",
      "metadata": {
        "id": "f2rpA-j4FZL_"
      },
      "source": [
        "Loading Iris Dataset"
      ]
    },
    {
      "cell_type": "code",
      "metadata": {
        "colab": {
          "base_uri": "https://localhost:8080/",
          "height": 206
        },
        "id": "pYgHh2GoFZL_",
        "outputId": "d894fa93-668e-41f7-c360-56f75ab04910"
      },
      "source": [
        "iris=pd.read_csv('iris.csv')\n",
        "iris.head()"
      ],
      "execution_count": 2,
      "outputs": [
        {
          "output_type": "execute_result",
          "data": {
            "text/html": [
              "<div>\n",
              "<style scoped>\n",
              "    .dataframe tbody tr th:only-of-type {\n",
              "        vertical-align: middle;\n",
              "    }\n",
              "\n",
              "    .dataframe tbody tr th {\n",
              "        vertical-align: top;\n",
              "    }\n",
              "\n",
              "    .dataframe thead th {\n",
              "        text-align: right;\n",
              "    }\n",
              "</style>\n",
              "<table border=\"1\" class=\"dataframe\">\n",
              "  <thead>\n",
              "    <tr style=\"text-align: right;\">\n",
              "      <th></th>\n",
              "      <th>Id</th>\n",
              "      <th>SepalLengthCm</th>\n",
              "      <th>SepalWidthCm</th>\n",
              "      <th>PetalLengthCm</th>\n",
              "      <th>PetalWidthCm</th>\n",
              "      <th>Species</th>\n",
              "    </tr>\n",
              "  </thead>\n",
              "  <tbody>\n",
              "    <tr>\n",
              "      <th>0</th>\n",
              "      <td>1</td>\n",
              "      <td>5.1</td>\n",
              "      <td>3.5</td>\n",
              "      <td>1.4</td>\n",
              "      <td>0.2</td>\n",
              "      <td>Iris-setosa</td>\n",
              "    </tr>\n",
              "    <tr>\n",
              "      <th>1</th>\n",
              "      <td>2</td>\n",
              "      <td>4.9</td>\n",
              "      <td>3.0</td>\n",
              "      <td>1.4</td>\n",
              "      <td>0.2</td>\n",
              "      <td>Iris-setosa</td>\n",
              "    </tr>\n",
              "    <tr>\n",
              "      <th>2</th>\n",
              "      <td>3</td>\n",
              "      <td>4.7</td>\n",
              "      <td>3.2</td>\n",
              "      <td>1.3</td>\n",
              "      <td>0.2</td>\n",
              "      <td>Iris-setosa</td>\n",
              "    </tr>\n",
              "    <tr>\n",
              "      <th>3</th>\n",
              "      <td>4</td>\n",
              "      <td>4.6</td>\n",
              "      <td>3.1</td>\n",
              "      <td>1.5</td>\n",
              "      <td>0.2</td>\n",
              "      <td>Iris-setosa</td>\n",
              "    </tr>\n",
              "    <tr>\n",
              "      <th>4</th>\n",
              "      <td>5</td>\n",
              "      <td>5.0</td>\n",
              "      <td>3.6</td>\n",
              "      <td>1.4</td>\n",
              "      <td>0.2</td>\n",
              "      <td>Iris-setosa</td>\n",
              "    </tr>\n",
              "  </tbody>\n",
              "</table>\n",
              "</div>"
            ],
            "text/plain": [
              "   Id  SepalLengthCm  SepalWidthCm  PetalLengthCm  PetalWidthCm      Species\n",
              "0   1            5.1           3.5            1.4           0.2  Iris-setosa\n",
              "1   2            4.9           3.0            1.4           0.2  Iris-setosa\n",
              "2   3            4.7           3.2            1.3           0.2  Iris-setosa\n",
              "3   4            4.6           3.1            1.5           0.2  Iris-setosa\n",
              "4   5            5.0           3.6            1.4           0.2  Iris-setosa"
            ]
          },
          "metadata": {
            "tags": []
          },
          "execution_count": 2
        }
      ]
    },
    {
      "cell_type": "markdown",
      "metadata": {
        "id": "X3DpbxFhFZL_"
      },
      "source": [
        "**Task 1: Create predictors and label**"
      ]
    },
    {
      "cell_type": "code",
      "metadata": {
        "id": "XUKUN6Q9FZL_"
      },
      "source": [
        "# Write Code Here\n",
        "X = iris.drop(['Id','Species'],axis=1)\n",
        "Y = iris[['Species']]"
      ],
      "execution_count": 3,
      "outputs": []
    },
    {
      "cell_type": "markdown",
      "metadata": {
        "id": "YMjzSAruFZL_"
      },
      "source": [
        "**Task 2: Split the data with test size 30 and random state 25**"
      ]
    },
    {
      "cell_type": "code",
      "metadata": {
        "id": "0NCVQBu2FZL_"
      },
      "source": [
        "from sklearn.model_selection import train_test_split"
      ],
      "execution_count": 4,
      "outputs": []
    },
    {
      "cell_type": "code",
      "metadata": {
        "colab": {
          "base_uri": "https://localhost:8080/"
        },
        "id": "JPqjhC9FFZL_",
        "outputId": "456180b8-24a1-47f5-abe9-8b886b55c22f"
      },
      "source": [
        "#Write Code Here\n",
        "xtrain, xtest, ytrain, ytest = train_test_split(X,Y,test_size=0.30,random_state=25,shuffle=True)\n",
        "print(xtrain.shape, ytrain.shape)\n",
        "print(xtest.shape, ytest.shape)"
      ],
      "execution_count": 5,
      "outputs": [
        {
          "output_type": "stream",
          "text": [
            "(105, 4) (105, 1)\n",
            "(45, 4) (45, 1)\n"
          ],
          "name": "stdout"
        }
      ]
    },
    {
      "cell_type": "markdown",
      "metadata": {
        "id": "iacNbHU1FZMA"
      },
      "source": [
        "**Task 3: Define the model for Random Forest classifier**"
      ]
    },
    {
      "cell_type": "code",
      "metadata": {
        "id": "-ldPb4iXFZMB"
      },
      "source": [
        "from sklearn.ensemble import RandomForestClassifier"
      ],
      "execution_count": 6,
      "outputs": []
    },
    {
      "cell_type": "code",
      "metadata": {
        "id": "sxgsa2OeFZMB"
      },
      "source": [
        "# Write the code here\n",
        "model = RandomForestClassifier()"
      ],
      "execution_count": 7,
      "outputs": []
    },
    {
      "cell_type": "markdown",
      "metadata": {
        "id": "d-0GRc1vFZMC"
      },
      "source": [
        "**Task 4: Train the model**"
      ]
    },
    {
      "cell_type": "code",
      "metadata": {
        "scrolled": false,
        "colab": {
          "base_uri": "https://localhost:8080/"
        },
        "id": "twZiqrOcFZMC",
        "outputId": "8d1421c3-ed39-4299-ba7c-35cfd7d5935b"
      },
      "source": [
        "# Write the code here\n",
        "model.fit(xtrain,ytrain)"
      ],
      "execution_count": 8,
      "outputs": [
        {
          "output_type": "stream",
          "text": [
            "/usr/local/lib/python3.6/dist-packages/ipykernel_launcher.py:2: DataConversionWarning: A column-vector y was passed when a 1d array was expected. Please change the shape of y to (n_samples,), for example using ravel().\n",
            "  \n"
          ],
          "name": "stderr"
        },
        {
          "output_type": "execute_result",
          "data": {
            "text/plain": [
              "RandomForestClassifier(bootstrap=True, ccp_alpha=0.0, class_weight=None,\n",
              "                       criterion='gini', max_depth=None, max_features='auto',\n",
              "                       max_leaf_nodes=None, max_samples=None,\n",
              "                       min_impurity_decrease=0.0, min_impurity_split=None,\n",
              "                       min_samples_leaf=1, min_samples_split=2,\n",
              "                       min_weight_fraction_leaf=0.0, n_estimators=100,\n",
              "                       n_jobs=None, oob_score=False, random_state=None,\n",
              "                       verbose=0, warm_start=False)"
            ]
          },
          "metadata": {
            "tags": []
          },
          "execution_count": 8
        }
      ]
    },
    {
      "cell_type": "markdown",
      "metadata": {
        "id": "w6aSDRLhFZMC"
      },
      "source": [
        "**Task 5: Get the predictions**"
      ]
    },
    {
      "cell_type": "code",
      "metadata": {
        "id": "Y4c0_rVgFZMC"
      },
      "source": [
        "# Write the code here\n",
        "pred = model.predict(xtest)"
      ],
      "execution_count": 9,
      "outputs": []
    },
    {
      "cell_type": "markdown",
      "metadata": {
        "id": "Vc34W7leFZMC"
      },
      "source": [
        "**Task 6: Find the accuracy**"
      ]
    },
    {
      "cell_type": "code",
      "metadata": {
        "id": "MdVuJPcUFZMC"
      },
      "source": [
        "from sklearn.metrics import accuracy_score"
      ],
      "execution_count": 10,
      "outputs": []
    },
    {
      "cell_type": "code",
      "metadata": {
        "colab": {
          "base_uri": "https://localhost:8080/"
        },
        "id": "v1UxDhq3FZMC",
        "outputId": "e4c9674b-d2f3-4b0f-829e-01e3d7a26cc0"
      },
      "source": [
        "#Write the code here\n",
        "accuracy = accuracy_score(ytest,pred)\n",
        "print(\"Accuracy of Multi-Class: {}\".format(accuracy))"
      ],
      "execution_count": 11,
      "outputs": [
        {
          "output_type": "stream",
          "text": [
            "Accuracy of Multi-Class: 0.9555555555555556\n"
          ],
          "name": "stdout"
        }
      ]
    },
    {
      "cell_type": "markdown",
      "metadata": {
        "id": "h19-P_zyFZMD"
      },
      "source": [
        "**Task 7: Print Classification Report**"
      ]
    },
    {
      "cell_type": "code",
      "metadata": {
        "id": "DCuvz5xzFZMD"
      },
      "source": [
        "from sklearn.metrics import classification_report"
      ],
      "execution_count": 12,
      "outputs": []
    },
    {
      "cell_type": "code",
      "metadata": {
        "scrolled": false,
        "colab": {
          "base_uri": "https://localhost:8080/"
        },
        "id": "zQpuW-I3FZME",
        "outputId": "766ba956-9b13-45ba-866c-afda2875b146"
      },
      "source": [
        "#Write Code here\n",
        "print(classification_report(ytest,pred))"
      ],
      "execution_count": 13,
      "outputs": [
        {
          "output_type": "stream",
          "text": [
            "                 precision    recall  f1-score   support\n",
            "\n",
            "    Iris-setosa       1.00      1.00      1.00        17\n",
            "Iris-versicolor       0.94      0.94      0.94        16\n",
            " Iris-virginica       0.92      0.92      0.92        12\n",
            "\n",
            "       accuracy                           0.96        45\n",
            "      macro avg       0.95      0.95      0.95        45\n",
            "   weighted avg       0.96      0.96      0.96        45\n",
            "\n"
          ],
          "name": "stdout"
        }
      ]
    },
    {
      "cell_type": "markdown",
      "metadata": {
        "id": "QzVkWqtVFZME"
      },
      "source": [
        "### Creating confusion matrix"
      ]
    },
    {
      "cell_type": "code",
      "metadata": {
        "id": "D37X4MdyFZME"
      },
      "source": [
        "from sklearn.metrics import confusion_matrix"
      ],
      "execution_count": 14,
      "outputs": []
    },
    {
      "cell_type": "code",
      "metadata": {
        "id": "Trro0TgPFZME"
      },
      "source": [
        "cm = confusion_matrix(ytest, pred) "
      ],
      "execution_count": 15,
      "outputs": []
    },
    {
      "cell_type": "code",
      "metadata": {
        "id": "S_EIbpyUFZME"
      },
      "source": [
        "cm_df = pd.DataFrame(cm,\n",
        "                     index = ['setosa','versicolor','virginica'], \n",
        "                     columns = ['setosa','versicolor','virginica'])"
      ],
      "execution_count": 16,
      "outputs": []
    },
    {
      "cell_type": "code",
      "metadata": {
        "colab": {
          "base_uri": "https://localhost:8080/",
          "height": 425
        },
        "id": "Agp_tD57FZME",
        "outputId": "5ef74580-068c-45bb-fb3d-16cdaa267b67"
      },
      "source": [
        "plt.figure(figsize=(8,6))\n",
        "sns.heatmap(cm_df, annot=True)\n",
        "plt.title('Random Forest \\nAccuracy:{0:.3f}'.format(accuracy))\n",
        "plt.ylabel('True label')\n",
        "plt.xlabel('Predicted label')\n",
        "plt.show()"
      ],
      "execution_count": 19,
      "outputs": [
        {
          "output_type": "display_data",
          "data": {
            "image/png": "[encoded data removed]",
            "text/plain": [
              "<Figure size 576x432 with 2 Axes>"
            ]
          },
          "metadata": {
            "tags": [],
            "needs_background": "light"
          }
        }
      ]
    },
    {
      "cell_type": "code",
      "metadata": {
        "id": "t3VfoX2XIF3e"
      },
      "source": [
        ""
      ],
      "execution_count": null,
      "outputs": []
    }
  ]
}