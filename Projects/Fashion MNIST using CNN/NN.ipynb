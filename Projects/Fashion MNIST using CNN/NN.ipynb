{
  "nbformat": 4,
  "nbformat_minor": 0,
  "metadata": {
    "colab": {
      "name": "NN.ipynb",
      "provenance": [],
      "collapsed_sections": []
    },
    "kernelspec": {
      "name": "python3",
      "display_name": "Python 3"
    },
    "accelerator": "GPU"
  },
  "cells": [
    {
      "cell_type": "code",
      "metadata": {
        "id": "bVvQNnPa9gEZ"
      },
      "source": [
        "#import necessary packages\n",
        "import tensorflow as tf\n",
        "import numpy as np\n",
        "import matplotlib.pyplot as plt\n",
        "from sklearn import metrics\n",
        "import cf_matrix\n"
      ],
      "execution_count": 82,
      "outputs": []
    },
    {
      "cell_type": "code",
      "metadata": {
        "id": "HL_vxltgWVin"
      },
      "source": [
        "np.random.seed(1)"
      ],
      "execution_count": 3,
      "outputs": []
    },
    {
      "cell_type": "markdown",
      "metadata": {
        "id": "Jb_lLvxx0AeZ"
      },
      "source": [
        "#Data Preprocessing"
      ]
    },
    {
      "cell_type": "code",
      "metadata": {
        "id": "UTqfvn3s_ggD",
        "colab": {
          "base_uri": "https://localhost:8080/"
        },
        "outputId": "972a1813-0a21-4975-cf11-3e8e5098b491"
      },
      "source": [
        "#load dataset\r\n",
        "(x_train,y_train),(x_test,y_test)=tf.keras.datasets.fashion_mnist.load_data()"
      ],
      "execution_count": 4,
      "outputs": [
        {
          "output_type": "stream",
          "text": [
            "Downloading data from https://storage.googleapis.com/tensorflow/tf-keras-datasets/train-labels-idx1-ubyte.gz\n",
            "32768/29515 [=================================] - 0s 0us/step\n",
            "Downloading data from https://storage.googleapis.com/tensorflow/tf-keras-datasets/train-images-idx3-ubyte.gz\n",
            "26427392/26421880 [==============================] - 0s 0us/step\n",
            "Downloading data from https://storage.googleapis.com/tensorflow/tf-keras-datasets/t10k-labels-idx1-ubyte.gz\n",
            "8192/5148 [===============================================] - 0s 0us/step\n",
            "Downloading data from https://storage.googleapis.com/tensorflow/tf-keras-datasets/t10k-images-idx3-ubyte.gz\n",
            "4423680/4422102 [==============================] - 0s 0us/step\n"
          ],
          "name": "stdout"
        }
      ]
    },
    {
      "cell_type": "code",
      "metadata": {
        "colab": {
          "base_uri": "https://localhost:8080/"
        },
        "id": "T9yYMdmDAf24",
        "outputId": "ad20138b-993a-43ef-e2a7-3831dbd88a14"
      },
      "source": [
        "#Shape of data\r\n",
        "print(x_train.shape,y_train.shape)\r\n",
        "print(x_test.shape,y_test.shape)"
      ],
      "execution_count": 5,
      "outputs": [
        {
          "output_type": "stream",
          "text": [
            "(60000, 28, 28) (60000,)\n",
            "(10000, 28, 28) (10000,)\n"
          ],
          "name": "stdout"
        }
      ]
    },
    {
      "cell_type": "code",
      "metadata": {
        "id": "q4yAk5vJNgsD"
      },
      "source": [
        "#dev/validation set from train set\n",
        "(x_train, x_valid) = x_train[5000:], x_train[:5000] \n",
        "(y_train, y_valid) = y_train[5000:], y_train[:5000]\n"
      ],
      "execution_count": 6,
      "outputs": []
    },
    {
      "cell_type": "code",
      "metadata": {
        "colab": {
          "base_uri": "https://localhost:8080/"
        },
        "id": "szkzBUD2Ly0c",
        "outputId": "bdee4a0d-1342-42b8-dac5-be25299ea6f2"
      },
      "source": [
        "print(x_train.shape,x_valid.shape,x_test.shape)"
      ],
      "execution_count": 7,
      "outputs": [
        {
          "output_type": "stream",
          "text": [
            "(55000, 28, 28) (5000, 28, 28) (10000, 28, 28)\n"
          ],
          "name": "stdout"
        }
      ]
    },
    {
      "cell_type": "code",
      "metadata": {
        "id": "MQ1ilr6lQ3pe"
      },
      "source": [
        "#reshape data from 28,28 to 28,28,1\n",
        "x_train=x_train.reshape(x_train.shape[0],28,28,1)\n",
        "x_valid=x_valid.reshape(x_valid.shape[0],28,28,1)\n",
        "x_test=x_test.reshape(x_test.shape[0],28,28,1)\n",
        "\n",
        "\n",
        "# One-hot encode the labels\n",
        "#y_train = tf.keras.utils.to_categorical(y_train, 10)\n",
        "#y_valid = tf.keras.utils.to_categorical(y_valid, 10)\n",
        "#y_test = tf.keras.utils.to_categorical(y_test, 10)"
      ],
      "execution_count": 8,
      "outputs": []
    },
    {
      "cell_type": "code",
      "metadata": {
        "colab": {
          "base_uri": "https://localhost:8080/"
        },
        "id": "uCnIbyhtR7wE",
        "outputId": "bc45cdcf-5bfc-4239-8288-f3ab382d9963"
      },
      "source": [
        "#images set shape\r\n",
        "print(x_train.shape,x_valid.shape,x_test.shape)"
      ],
      "execution_count": 9,
      "outputs": [
        {
          "output_type": "stream",
          "text": [
            "(55000, 28, 28, 1) (5000, 28, 28, 1) (10000, 28, 28, 1)\n"
          ],
          "name": "stdout"
        }
      ]
    },
    {
      "cell_type": "code",
      "metadata": {
        "colab": {
          "base_uri": "https://localhost:8080/"
        },
        "id": "hpxbbQDzSW2n",
        "outputId": "e9ce8559-e505-47b3-813e-fd0f6b07065f"
      },
      "source": [
        "#labels set shape\r\n",
        "print(y_train.shape,y_valid.shape,y_test.shape)"
      ],
      "execution_count": 10,
      "outputs": [
        {
          "output_type": "stream",
          "text": [
            "(55000,) (5000,) (10000,)\n"
          ],
          "name": "stdout"
        }
      ]
    },
    {
      "cell_type": "code",
      "metadata": {
        "id": "9imOhPe5A9OJ"
      },
      "source": [
        "#labels\n",
        "fashion_mnist_labels = [\"T-shirt/top\",  # index 0\n",
        "                        \"Trouser\",      # index 1\n",
        "                        \"Pullover\",     # index 2 \n",
        "                        \"Dress\",        # index 3 \n",
        "                        \"Coat\",         # index 4\n",
        "                        \"Sandal\",       # index 5\n",
        "                        \"Shirt\",        # index 6 \n",
        "                        \"Sneaker\",      # index 7 \n",
        "                        \"Bag\",          # index 8 \n",
        "                        \"Ankle boot\"]   # index 9"
      ],
      "execution_count": 11,
      "outputs": []
    },
    {
      "cell_type": "code",
      "metadata": {
        "id": "UXY2Vl68En2G"
      },
      "source": [
        "#normalizing data to bring it at 1 scale\n",
        "x_train=x_train.astype('float32')/255\n",
        "x_valid=x_valid.astype('float32')/255\n",
        "x_test=x_test.astype('float32')/255"
      ],
      "execution_count": 12,
      "outputs": []
    },
    {
      "cell_type": "markdown",
      "metadata": {
        "id": "rJXToY57V3oU"
      },
      "source": [
        "#Modeling"
      ]
    },
    {
      "cell_type": "code",
      "metadata": {
        "id": "mszR6AnvGCjc"
      },
      "source": [
        "#initialize a sequential model\r\n",
        "model=tf.keras.Sequential()"
      ],
      "execution_count": 51,
      "outputs": []
    },
    {
      "cell_type": "code",
      "metadata": {
        "id": "y6b824HLGfTH"
      },
      "source": [
        "#Add layers to model\n",
        "model.add(tf.keras.layers.Conv2D(filters=128,kernel_size=2,padding='same',activation='relu',input_shape=(28,28,1)))\n",
        "model.add(tf.keras.layers.MaxPooling2D(pool_size=2))\n",
        "model.add(tf.keras.layers.Dropout(0.2))\n",
        "\n",
        "\n",
        "model.add(tf.keras.layers.Conv2D(filters=64,kernel_size=2,padding='same',activation='relu'))\n",
        "model.add(tf.keras.layers.MaxPooling2D(pool_size=2))\n",
        "model.add(tf.keras.layers.Dropout(0.2))\n",
        "\n",
        "\n",
        "model.add(tf.keras.layers.Flatten())\n",
        "model.add(tf.keras.layers.Dense(256,activation='relu'))\n",
        "model.add(tf.keras.layers.Dropout(0.5))\n",
        "model.add(tf.keras.layers.Dense(10,activation='softmax'))"
      ],
      "execution_count": 52,
      "outputs": []
    },
    {
      "cell_type": "code",
      "metadata": {
        "colab": {
          "base_uri": "https://localhost:8080/"
        },
        "id": "WWGawet5Jbnq",
        "outputId": "395af4e8-dbe5-4459-8912-928c3ab5f208"
      },
      "source": [
        "model.summary()"
      ],
      "execution_count": 53,
      "outputs": [
        {
          "output_type": "stream",
          "text": [
            "Model: \"sequential_4\"\n",
            "_________________________________________________________________\n",
            "Layer (type)                 Output Shape              Param #   \n",
            "=================================================================\n",
            "conv2d_4 (Conv2D)            (None, 28, 28, 128)       640       \n",
            "_________________________________________________________________\n",
            "max_pooling2d_4 (MaxPooling2 (None, 14, 14, 128)       0         \n",
            "_________________________________________________________________\n",
            "dropout_6 (Dropout)          (None, 14, 14, 128)       0         \n",
            "_________________________________________________________________\n",
            "conv2d_5 (Conv2D)            (None, 14, 14, 64)        32832     \n",
            "_________________________________________________________________\n",
            "max_pooling2d_5 (MaxPooling2 (None, 7, 7, 64)          0         \n",
            "_________________________________________________________________\n",
            "dropout_7 (Dropout)          (None, 7, 7, 64)          0         \n",
            "_________________________________________________________________\n",
            "flatten_7 (Flatten)          (None, 3136)              0         \n",
            "_________________________________________________________________\n",
            "dense_19 (Dense)             (None, 256)               803072    \n",
            "_________________________________________________________________\n",
            "dropout_8 (Dropout)          (None, 256)               0         \n",
            "_________________________________________________________________\n",
            "dense_20 (Dense)             (None, 10)                2570      \n",
            "=================================================================\n",
            "Total params: 839,114\n",
            "Trainable params: 839,114\n",
            "Non-trainable params: 0\n",
            "_________________________________________________________________\n"
          ],
          "name": "stdout"
        }
      ]
    },
    {
      "cell_type": "code",
      "metadata": {
        "id": "RWWjTSjPJjoH"
      },
      "source": [
        "model.compile(optimizer='adam',loss='sparse_categorical_crossentropy',metrics=['accuracy'])"
      ],
      "execution_count": 54,
      "outputs": []
    },
    {
      "cell_type": "code",
      "metadata": {
        "id": "nfsfduypQax1"
      },
      "source": [
        "from keras.callbacks import ModelCheckpoint\n",
        "\n",
        "checkpointer = ModelCheckpoint(filepath='model.weights.best.hdf5', verbose = 1, save_best_only=True)"
      ],
      "execution_count": 55,
      "outputs": []
    },
    {
      "cell_type": "code",
      "metadata": {
        "colab": {
          "base_uri": "https://localhost:8080/"
        },
        "id": "5-KKZxLsKLSs",
        "outputId": "5995f9b1-dd41-4031-a2f7-3ad0d2d331c4"
      },
      "source": [
        "model.fit(x=x_train,y=y_train,batch_size=64,epochs=10,validation_data=(x_valid,y_valid),callbacks=[checkpointer])"
      ],
      "execution_count": 56,
      "outputs": [
        {
          "output_type": "stream",
          "text": [
            "Epoch 1/10\n",
            "860/860 [==============================] - 7s 8ms/step - loss: 0.7602 - accuracy: 0.7168 - val_loss: 0.3458 - val_accuracy: 0.8754\n",
            "\n",
            "Epoch 00001: val_loss improved from inf to 0.34584, saving model to model.weights.best.hdf5\n",
            "Epoch 2/10\n",
            "860/860 [==============================] - 7s 8ms/step - loss: 0.3732 - accuracy: 0.8645 - val_loss: 0.3088 - val_accuracy: 0.8862\n",
            "\n",
            "Epoch 00002: val_loss improved from 0.34584 to 0.30877, saving model to model.weights.best.hdf5\n",
            "Epoch 3/10\n",
            "860/860 [==============================] - 7s 8ms/step - loss: 0.3229 - accuracy: 0.8813 - val_loss: 0.2636 - val_accuracy: 0.9040\n",
            "\n",
            "Epoch 00003: val_loss improved from 0.30877 to 0.26364, saving model to model.weights.best.hdf5\n",
            "Epoch 4/10\n",
            "860/860 [==============================] - 7s 8ms/step - loss: 0.3021 - accuracy: 0.8864 - val_loss: 0.2500 - val_accuracy: 0.9080\n",
            "\n",
            "Epoch 00004: val_loss improved from 0.26364 to 0.25005, saving model to model.weights.best.hdf5\n",
            "Epoch 5/10\n",
            "860/860 [==============================] - 7s 8ms/step - loss: 0.2750 - accuracy: 0.8985 - val_loss: 0.2350 - val_accuracy: 0.9110\n",
            "\n",
            "Epoch 00005: val_loss improved from 0.25005 to 0.23495, saving model to model.weights.best.hdf5\n",
            "Epoch 6/10\n",
            "860/860 [==============================] - 7s 8ms/step - loss: 0.2596 - accuracy: 0.9054 - val_loss: 0.2360 - val_accuracy: 0.9082\n",
            "\n",
            "Epoch 00006: val_loss did not improve from 0.23495\n",
            "Epoch 7/10\n",
            "860/860 [==============================] - 7s 8ms/step - loss: 0.2429 - accuracy: 0.9093 - val_loss: 0.2276 - val_accuracy: 0.9138\n",
            "\n",
            "Epoch 00007: val_loss improved from 0.23495 to 0.22765, saving model to model.weights.best.hdf5\n",
            "Epoch 8/10\n",
            "860/860 [==============================] - 7s 8ms/step - loss: 0.2276 - accuracy: 0.9153 - val_loss: 0.2358 - val_accuracy: 0.9156\n",
            "\n",
            "Epoch 00008: val_loss did not improve from 0.22765\n",
            "Epoch 9/10\n",
            "860/860 [==============================] - 7s 8ms/step - loss: 0.2259 - accuracy: 0.9174 - val_loss: 0.2183 - val_accuracy: 0.9170\n",
            "\n",
            "Epoch 00009: val_loss improved from 0.22765 to 0.21832, saving model to model.weights.best.hdf5\n",
            "Epoch 10/10\n",
            "860/860 [==============================] - 7s 8ms/step - loss: 0.2131 - accuracy: 0.9224 - val_loss: 0.2102 - val_accuracy: 0.9170\n",
            "\n",
            "Epoch 00010: val_loss improved from 0.21832 to 0.21022, saving model to model.weights.best.hdf5\n"
          ],
          "name": "stdout"
        },
        {
          "output_type": "execute_result",
          "data": {
            "text/plain": [
              "<tensorflow.python.keras.callbacks.History at 0x7f06b467b550>"
            ]
          },
          "metadata": {
            "tags": []
          },
          "execution_count": 56
        }
      ]
    },
    {
      "cell_type": "markdown",
      "metadata": {
        "id": "ORstnlpo2Nda"
      },
      "source": [
        "#Model Evaluation"
      ]
    },
    {
      "cell_type": "code",
      "metadata": {
        "id": "ZTL5D3REPZPI"
      },
      "source": [
        "model.load_weights('model.weights.best.hdf5')"
      ],
      "execution_count": 57,
      "outputs": []
    },
    {
      "cell_type": "code",
      "metadata": {
        "colab": {
          "base_uri": "https://localhost:8080/"
        },
        "id": "l3ZhoCmMXdL-",
        "outputId": "de2b1807-c8a8-4a33-d475-e33c635de4f5"
      },
      "source": [
        "score=model.evaluate(x_test,y_test)"
      ],
      "execution_count": 58,
      "outputs": [
        {
          "output_type": "stream",
          "text": [
            "313/313 [==============================] - 1s 3ms/step - loss: 0.2281 - accuracy: 0.9196\n"
          ],
          "name": "stdout"
        }
      ]
    },
    {
      "cell_type": "code",
      "metadata": {
        "id": "ZhOMkvooY1fJ"
      },
      "source": [
        "y_pred = model.predict(x_test)"
      ],
      "execution_count": 59,
      "outputs": []
    },
    {
      "cell_type": "code",
      "metadata": {
        "colab": {
          "base_uri": "https://localhost:8080/"
        },
        "id": "Izl6Of3KXuya",
        "outputId": "a01cb2f6-6bda-40c3-d664-2cf78c7ba600"
      },
      "source": [
        "print(\"\\n Accuracy : \",score[1]*100)"
      ],
      "execution_count": 63,
      "outputs": [
        {
          "output_type": "stream",
          "text": [
            "\n",
            " Accuracy :  91.96000099182129\n"
          ],
          "name": "stdout"
        }
      ]
    },
    {
      "cell_type": "code",
      "metadata": {
        "id": "3H1SHSBuaUKE"
      },
      "source": [
        "y_pred_classes=[np.argmax(element) for element in y_pred]"
      ],
      "execution_count": 61,
      "outputs": []
    },
    {
      "cell_type": "code",
      "metadata": {
        "colab": {
          "base_uri": "https://localhost:8080/"
        },
        "id": "yeiqoaBqYAH-",
        "outputId": "c594f31e-3319-4e44-e534-d4c5ea520e62"
      },
      "source": [
        "#classification report\r\n",
        "print(\"Classification Report \\n\",metrics.classification_report(y_test,y_pred_classes))"
      ],
      "execution_count": 64,
      "outputs": [
        {
          "output_type": "stream",
          "text": [
            "Classification Report \n",
            "               precision    recall  f1-score   support\n",
            "\n",
            "           0       0.83      0.91      0.87      1000\n",
            "           1       0.99      0.98      0.99      1000\n",
            "           2       0.86      0.89      0.87      1000\n",
            "           3       0.93      0.92      0.93      1000\n",
            "           4       0.84      0.91      0.87      1000\n",
            "           5       0.99      0.99      0.99      1000\n",
            "           6       0.83      0.67      0.74      1000\n",
            "           7       0.96      0.98      0.97      1000\n",
            "           8       0.99      0.99      0.99      1000\n",
            "           9       0.98      0.96      0.97      1000\n",
            "\n",
            "    accuracy                           0.92     10000\n",
            "   macro avg       0.92      0.92      0.92     10000\n",
            "weighted avg       0.92      0.92      0.92     10000\n",
            "\n"
          ],
          "name": "stdout"
        }
      ]
    },
    {
      "cell_type": "code",
      "metadata": {
        "colab": {
          "base_uri": "https://localhost:8080/"
        },
        "id": "TkwdKZub0j-W",
        "outputId": "27a0bcba-e1ca-4ae0-f458-f9d493eec073"
      },
      "source": [
        "#Precision & Recall & F1 Score\r\n",
        "print(\"Precision : \",metrics.precision_score(y_test,y_pred_classes,average='weighted')*100)\r\n",
        "print(\"Recall    : \",metrics.recall_score(y_test,y_pred_classes,average='weighted')*100)\r\n",
        "print(\"F1 Score  : \",metrics.f1_score(y_test,y_pred_classes,average='weighted')*100)"
      ],
      "execution_count": 87,
      "outputs": [
        {
          "output_type": "stream",
          "text": [
            "Precision :  91.96667434224072\n",
            "Recall    :  91.96\n",
            "F1 Score  :  91.8441526626691\n"
          ],
          "name": "stdout"
        }
      ]
    },
    {
      "cell_type": "code",
      "metadata": {
        "colab": {
          "base_uri": "https://localhost:8080/",
          "height": 411
        },
        "id": "xCEEa7LWgHdM",
        "outputId": "a3914977-9842-4981-c262-80e0030de9cc"
      },
      "source": [
        "confusion=metrics.confusion_matrix(y_test,y_pred_classes)\r\n",
        "cf_matrix.make_confusion_matrix(confusion, figsize=(14,6), cbar=False)"
      ],
      "execution_count": 89,
      "outputs": [
        {
          "output_type": "display_data",
          "data": {
            "image/png": "[encoded data removed]",
            "text/plain": [
              "<Figure size 1008x432 with 1 Axes>"
            ]
          },
          "metadata": {
            "tags": [],
            "needs_background": "light"
          }
        }
      ]
    },
    {
      "cell_type": "code",
      "metadata": {
        "id": "Gm5RUDc4Xzw1",
        "colab": {
          "base_uri": "https://localhost:8080/",
          "height": 485
        },
        "outputId": "54319dc2-f5cc-4868-eb48-e8e0f3c44c91"
      },
      "source": [
        "y_hat = model.predict(x_test)\r\n",
        "\r\n",
        "# Plot a random sample of 10 test images, their predicted labels and ground truth\r\n",
        "figure = plt.figure(figsize=(20, 8))\r\n",
        "for i, index in enumerate(np.random.choice(x_test.shape[0], size=15, replace=False)):\r\n",
        "    ax = figure.add_subplot(3, 5, i + 1, xticks=[], yticks=[])\r\n",
        "    # Display each image\r\n",
        "    ax.imshow(np.squeeze(x_test[index]))\r\n",
        "    predict_index = np.argmax(y_hat[index])\r\n",
        "    true_index = np.argmax(y_test[index])\r\n",
        "    # Set the title for each image\r\n",
        "    ax.set_title(\"{} ({})\".format(fashion_mnist_labels[predict_index], \r\n",
        "                                  fashion_mnist_labels[true_index]),\r\n",
        "                                  color=(\"green\" if predict_index == true_index else \"red\"))"
      ],
      "execution_count": 91,
      "outputs": [
        {
          "output_type": "display_data",
          "data": {
            "image/png": "[encoded data removed]",
            "text/plain": [
              "<Figure size 1440x576 with 15 Axes>"
            ]
          },
          "metadata": {
            "tags": []
          }
        }
      ]
    },
    {
      "cell_type": "markdown",
      "metadata": {
        "id": "XelxV7hAwV4g"
      },
      "source": [
        "#ANN Model"
      ]
    },
    {
      "cell_type": "code",
      "metadata": {
        "id": "wvr4olsdXHZh"
      },
      "source": [
        "model2=tf.keras.Sequential()"
      ],
      "execution_count": 35,
      "outputs": []
    },
    {
      "cell_type": "code",
      "metadata": {
        "colab": {
          "base_uri": "https://localhost:8080/"
        },
        "id": "zEzwykDkmhTd",
        "outputId": "1e6b014e-e5fd-4f79-d0ff-328309b94194"
      },
      "source": [
        "model2.add(tf.keras.layers.Flatten(input_shape=(28,28,1)))\r\n",
        "model2.add(tf.keras.layers.Dense(3000,activation='relu'))\r\n",
        "model2.add(tf.keras.layers.Dense(1000,activation='relu'))\r\n",
        "model2.add(tf.keras.layers.Dense(10,activation='softmax'))\r\n",
        "\r\n",
        "model2.compile(optimizer='adam',loss='sparse_categorical_crossentropy',metrics=['accuracy'])\r\n",
        "\r\n",
        "model2.fit(x_train,y_train,batch_size=64,epochs=10)"
      ],
      "execution_count": 39,
      "outputs": [
        {
          "output_type": "stream",
          "text": [
            "Epoch 1/10\n",
            "860/860 [==============================] - 4s 4ms/step - loss: 0.3508 - accuracy: 0.9056\n",
            "Epoch 2/10\n",
            "860/860 [==============================] - 3s 4ms/step - loss: 0.2196 - accuracy: 0.9207\n",
            "Epoch 3/10\n",
            "860/860 [==============================] - 3s 4ms/step - loss: 0.2272 - accuracy: 0.9175\n",
            "Epoch 4/10\n",
            "860/860 [==============================] - 3s 4ms/step - loss: 0.2178 - accuracy: 0.9213\n",
            "Epoch 5/10\n",
            "860/860 [==============================] - 4s 4ms/step - loss: 0.1980 - accuracy: 0.9285\n",
            "Epoch 6/10\n",
            "860/860 [==============================] - 4s 4ms/step - loss: 0.1992 - accuracy: 0.9255\n",
            "Epoch 7/10\n",
            "860/860 [==============================] - 4s 4ms/step - loss: 0.1962 - accuracy: 0.9268\n",
            "Epoch 8/10\n",
            "860/860 [==============================] - 4s 4ms/step - loss: 0.1837 - accuracy: 0.9314\n",
            "Epoch 9/10\n",
            "860/860 [==============================] - 3s 4ms/step - loss: 0.1742 - accuracy: 0.9352\n",
            "Epoch 10/10\n",
            "860/860 [==============================] - 3s 4ms/step - loss: 0.1704 - accuracy: 0.9366\n"
          ],
          "name": "stdout"
        },
        {
          "output_type": "execute_result",
          "data": {
            "text/plain": [
              "<tensorflow.python.keras.callbacks.History at 0x7f06ce0541d0>"
            ]
          },
          "metadata": {
            "tags": []
          },
          "execution_count": 39
        }
      ]
    },
    {
      "cell_type": "code",
      "metadata": {
        "colab": {
          "base_uri": "https://localhost:8080/"
        },
        "id": "92eDwmE5oSCv",
        "outputId": "ba7a65b8-3458-4619-9999-1815eb3ef7b8"
      },
      "source": [
        "score=model2.evaluate(x_test,y_test)"
      ],
      "execution_count": 40,
      "outputs": [
        {
          "output_type": "stream",
          "text": [
            "313/313 [==============================] - 1s 2ms/step - loss: 0.3649 - accuracy: 0.8894\n"
          ],
          "name": "stdout"
        }
      ]
    },
    {
      "cell_type": "code",
      "metadata": {
        "colab": {
          "base_uri": "https://localhost:8080/"
        },
        "id": "Wll0ul3VvjT9",
        "outputId": "90708f73-363c-4290-ce29-99ab5823b4b6"
      },
      "source": [
        "print(\"Accuracy\",score[1]*100)"
      ],
      "execution_count": 41,
      "outputs": [
        {
          "output_type": "stream",
          "text": [
            "Accuracy 88.94000053405762\n"
          ],
          "name": "stdout"
        }
      ]
    },
    {
      "cell_type": "code",
      "metadata": {
        "id": "gPg9G0yqvnyg"
      },
      "source": [
        ""
      ],
      "execution_count": null,
      "outputs": []
    }
  ]
}